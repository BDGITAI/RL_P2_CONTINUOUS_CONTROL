{
 "cells": [
  {
   "cell_type": "markdown",
   "metadata": {},
   "source": [
    "# Continuous Control\n",
    "\n",
    "---\n",
    "\n",
    "## Preamble\n",
    "\n",
    "### The project\n",
    "\n",
    "In this notebook, a DQN agent is used to solve a navigation problem as a first project for the  [Deep Reinforcement Learning Nanodegree](https://www.udacity.com/course/deep-reinforcement-learning-nanodegree--nd893).\n",
    "\n",
    "Before using this notebook check that you have followed the .Readme file available in [GitHub Project repository](https://github.com/BDGITAI/RL_P1_Navigation/)\n",
    "\n",
    "For the Notebook to work you will need the Banana environment executable which was placed in [GitHub Project repository](https://github.com/BDGITAI/RL_P1_Navigation/Banana_Windows_x86_64/). The environment needs to uncompressed in  `\"../Banana_Windows_x86_64/Banana.exe\"`\n",
    "\n",
    "This DQN implementation uses the Pytorch library and was tested in a **Windows 64 bits** platform using **CPU**  computation. \n",
    "\n",
    "\n",
    "This notebook is divided in two parts\n",
    "* **Part 1** : Training. We will train an Agent and see how the learning can be applied to execute a task\n",
    "* **Part 2** : To see an already trained agent you can skip to Part 2 and load a trained agent.\n",
    "\n",
    "### Base used for the project\n",
    "\n",
    "here describe shangtong\n",
    "\n",
    "---"
   ]
  },
  {
   "cell_type": "markdown",
   "metadata": {
    "collapsed": true
   },
   "source": [
    "## 1. Part 1 : Training an agent "
   ]
  },
  {
   "cell_type": "markdown",
   "metadata": {},
   "source": [
    "### 1.1 Imports and initialisation function\n",
    "Import the deep_rl libraries from Shangtong and create a function creating the DDPG agent interacting with the Unity environment"
   ]
  },
  {
   "cell_type": "code",
   "execution_count": 1,
   "metadata": {
    "collapsed": true
   },
   "outputs": [],
   "source": [
    "from deep_rl import *\n",
    "import sys\n",
    "\n",
    "# Init function used to create DDPG agent and initialise its configugration\n",
    "def ddpg_low_dim_state_unity():\n",
    "    config = Config()\n",
    "    log_dir = get_default_log_dir(ddpg_low_dim_state_unity.__name__)\n",
    "    config.task_fn = lambda **kwargs: ContinuousControl(config.eval_env,log_dir=log_dir)\n",
    "    config.eval_env = Unity()\n",
    "    config.max_steps = int(1e6)\n",
    "    config.eval_interval = int(1e4)\n",
    "    config.eval_episodes = 20\n",
    "\n",
    "    config.network_fn = lambda: DeterministicActorCriticNet(\n",
    "        config.state_dim, config.action_dim,\n",
    "        actor_body=FCBody(config.state_dim, (400, 300), gate=F.tanh),\n",
    "        critic_body=TwoLayerFCBodyWithAction(\n",
    "            config.state_dim, config.action_dim, (400, 300), gate=F.tanh),\n",
    "        actor_opt_fn=lambda params: torch.optim.Adam(params, lr=1e-4),\n",
    "        critic_opt_fn=lambda params: torch.optim.Adam(params, lr=1e-3))\n",
    "\n",
    "    config.replay_fn = lambda: Replay(memory_size=int(1e7), batch_size=64)\n",
    "    config.discount = 0.99\n",
    "    config.random_process_fn = lambda: OrnsteinUhlenbeckProcess(\n",
    "        size=(config.action_dim, ), std=LinearSchedule(0.2))\n",
    "    config.min_memory_size = 64\n",
    "    config.target_network_mix = 1e-3\n",
    "    #config.logger = get_logger()\n",
    "    return DDPGAgent(config)"
   ]
  },
  {
   "cell_type": "markdown",
   "metadata": {},
   "source": [
    "### 1.2 Training loop\n"
   ]
  },
  {
   "cell_type": "code",
   "execution_count": 2,
   "metadata": {
    "collapsed": true
   },
   "outputs": [],
   "source": [
    "##TODO test with comment line\n",
    "def train(agent,n_episodes=2000, max_t=1000, score_target =30.0):\n",
    "    scores = []                        # list containing scores from each episode\n",
    "    scores_window = deque(maxlen=100)  # last 100 scores\n",
    "    for i_episode in range(1, n_episodes+1):\n",
    "        # reset environment at the start of each episode\n",
    "        state = agent.config.eval_env.reset()\n",
    "        # episode is not finished\n",
    "        done = False\n",
    "        # no reward at start\n",
    "        episode_rewards = 0\n",
    "        score = 0\n",
    "        for t in range(max_t):\n",
    "            # decide wich action to take according to eps greedy policy\n",
    "            #action = agent.eval_step(state)\n",
    "            # execute the action in the environment (interface with unity)\n",
    "            #next_state, reward, done, info = agent.config.eval_env.step(action)\n",
    "            # store this experience in the memory and learn if enough experiences have been gathered\n",
    "            agent.step()\n",
    "            # update current state as next state\n",
    "            #state = next_state\n",
    "            # cumul rewrd\n",
    "            score = agent.episode_reward\n",
    "            if done:\n",
    "                break \n",
    "        scores_window.append(score)       # save most recent score\n",
    "        scores.append(score)              # save most recent score\n",
    "        print('\\rEpisode {}\\tAverage Score: {:.2f}\\tMax Score: {:.2f}'.format(i_episode, np.mean(scores_window),np.max(scores_window)), end=\"\")\n",
    "        # save network weigth every 100 episodes\n",
    "        if i_episode % 100 == 0:\n",
    "            print('\\rEpisode {}\\tAverage Score: {:.2f}'.format(i_episode, np.mean(scores_window)))\n",
    "            path = 'checkpoint_'+str(i_episode)+'.pth'\n",
    "            agent.save(path)\n",
    "            # save score\n",
    "            f = open('output.txt', 'w')\n",
    "            f.write('score: '+ str(scores)+'\\n')\n",
    "            f.close()\n",
    "        # target is 30 to win. \n",
    "        if np.mean(scores_window)>=score_target:\n",
    "            print('\\nEnvironment solved in {:d} episodes!\\tAverage Score: {:.2f}'.format(i_episode-100, np.mean(scores_window)))\n",
    "            path = 'checkpoint_'+str(i_episode)+'.pth'\n",
    "            agent.save(path)\n",
    "            break\n",
    "    return scores\n",
    "\n"
   ]
  },
  {
   "cell_type": "markdown",
   "metadata": {},
   "source": [
    "### 1.3 Execute training loop "
   ]
  },
  {
   "cell_type": "code",
   "execution_count": 6,
   "metadata": {},
   "outputs": [
    {
     "name": "stdout",
     "output_type": "stream",
     "text": [
      "WARN: gym.spaces.Box autodetected dtype as <class 'numpy.float32'>. Please provide explicit dtype.\n"
     ]
    },
    {
     "name": "stderr",
     "output_type": "stream",
     "text": [
      "C:\\ProgramData\\Anaconda3\\lib\\site-packages\\torch\\nn\\functional.py:995: UserWarning: nn.functional.tanh is deprecated. Use torch.tanh instead.\n",
      "  warnings.warn(\"nn.functional.tanh is deprecated. Use torch.tanh instead.\")\n"
     ]
    },
    {
     "name": "stdout",
     "output_type": "stream",
     "text": [
      "Episode 100\tAverage Score: 3.07\tMax Score: 8.60\n",
      "Episode 200\tAverage Score: 6.08\tMax Score: 12.12\n",
      "Episode 300\tAverage Score: 7.60\tMax Score: 15.24\n",
      "Episode 400\tAverage Score: 8.43\tMax Score: 14.20\n",
      "Episode 500\tAverage Score: 9.60\tMax Score: 14.88\n",
      "Episode 600\tAverage Score: 11.43\tMax Score: 16.54\n",
      "Episode 700\tAverage Score: 11.96\tMax Score: 19.32\n",
      "Episode 800\tAverage Score: 12.52\tMax Score: 16.75\n",
      "Episode 900\tAverage Score: 13.61\tMax Score: 17.65\n",
      "Episode 1000\tAverage Score: 13.37\tMax Score: 18.47\n",
      "Episode 1100\tAverage Score: 14.81\tMax Score: 19.71\n",
      "Episode 1200\tAverage Score: 14.75\tMax Score: 17.97\n",
      "Episode 1300\tAverage Score: 15.58\tMax Score: 19.17\n",
      "Episode 1400\tAverage Score: 15.37\tMax Score: 19.31\n",
      "Episode 1500\tAverage Score: 15.68\tMax Score: 18.89\n",
      "Episode 1600\tAverage Score: 15.73\tMax Score: 18.83\n",
      "Episode 1700\tAverage Score: 16.40\tMax Score: 19.02\n",
      "Episode 1800\tAverage Score: 16.41\tMax Score: 18.99\n",
      "Episode 1900\tAverage Score: 16.59\tMax Score: 19.72\n",
      "Episode 2000\tAverage Score: 17.38\tMax Score: 19.47\n"
     ]
    }
   ],
   "source": [
    "mkdir('data/video')\n",
    "mkdir('dataset')\n",
    "mkdir('log')\n",
    "\n",
    "set_one_thread()\n",
    "select_device(-1)\n",
    "agent = ddpg_low_dim_state_unity()\n",
    "scores = train(agent)\n",
    "agent.config.eval_env.close()\n"
   ]
  },
  {
   "cell_type": "code",
   "execution_count": 5,
   "metadata": {},
   "outputs": [
    {
     "name": "stdout",
     "output_type": "stream",
     "text": [
      "WARN: gym.spaces.Box autodetected dtype as <class 'numpy.float32'>. Please provide explicit dtype.\n"
     ]
    },
    {
     "name": "stderr",
     "output_type": "stream",
     "text": [
      "C:\\ProgramData\\Anaconda3\\lib\\site-packages\\torch\\nn\\functional.py:995: UserWarning: nn.functional.tanh is deprecated. Use torch.tanh instead.\n",
      "  warnings.warn(\"nn.functional.tanh is deprecated. Use torch.tanh instead.\")\n"
     ]
    },
    {
     "name": "stdout",
     "output_type": "stream",
     "text": [
      "Episode 100\tAverage Score: 1.64\tMax Score: 7.81\n",
      "Episode 200\tAverage Score: 5.22\tMax Score: 10.20\n",
      "Episode 300\tAverage Score: 10.50\tMax Score: 17.12\n",
      "Episode 400\tAverage Score: 15.28\tMax Score: 19.53\n",
      "Episode 425\tAverage Score: 16.05\tMax Score: 19.53\n",
      "Environment solved in 325 episodes!\tAverage Score: 16.05\n"
     ]
    }
   ],
   "source": [
    "\n",
    "agent = ddpg_low_dim_state_unity()\n",
    "agent.load('checkpoint_2000.pth')\n",
    "scores_2_phase = train(agent, n_episodes=2000, max_t=500, score_target =16.0)\n",
    "agent.config.eval_env.close()\n"
   ]
  },
  {
   "cell_type": "markdown",
   "metadata": {},
   "source": [
    "### 1.4 Plot the training results"
   ]
  },
  {
   "cell_type": "code",
   "execution_count": 7,
   "metadata": {},
   "outputs": [
    {
     "data": {
      "image/png": "[encoded data removed]",
      "text/plain": [
       "<matplotlib.figure.Figure at 0x270369dd1d0>"
      ]
     },
     "metadata": {},
     "output_type": "display_data"
    }
   ],
   "source": [
    "import matplotlib.pyplot as plt\n",
    "\n",
    "fig = plt.figure()\n",
    "ax = fig.add_subplot(111)\n",
    "plt.plot(np.arange(len(scores)), scores)\n",
    "plt.ylabel('Score')\n",
    "plt.xlabel('Episode #')\n",
    "plt.show()"
   ]
  },
  {
   "cell_type": "code",
   "execution_count": 4,
   "metadata": {
    "collapsed": true
   },
   "outputs": [],
   "source": [
    "agent.config.eval_env.close()\n",
    "\n",
    "agent.close()"
   ]
  },
  {
   "cell_type": "markdown",
   "metadata": {},
   "source": [
    "## 2. Part 2 : Watch a trained agent"
   ]
  },
  {
   "cell_type": "code",
   "execution_count": 2,
   "metadata": {},
   "outputs": [
    {
     "name": "stdout",
     "output_type": "stream",
     "text": [
      "WARN: gym.spaces.Box autodetected dtype as <class 'numpy.float32'>. Please provide explicit dtype.\n"
     ]
    },
    {
     "name": "stderr",
     "output_type": "stream",
     "text": [
      "C:\\ProgramData\\Anaconda3\\lib\\site-packages\\torch\\nn\\functional.py:995: UserWarning: nn.functional.tanh is deprecated. Use torch.tanh instead.\n",
      "  warnings.warn(\"nn.functional.tanh is deprecated. Use torch.tanh instead.\")\n"
     ]
    },
    {
     "name": "stdout",
     "output_type": "stream",
     "text": [
      "Total score this episode: 32.09999928250909\n"
     ]
    }
   ],
   "source": [
    "\n",
    "num_agents =1\n",
    "agent = ddpg_low_dim_state_unity()\n",
    "agent.load('checkpoint_425.pth')\n",
    "brain_name = agent.config.eval_env.env.brain_names[0]\n",
    "env_info = agent.config.eval_env.env.reset(train_mode=False)[brain_name] \n",
    "state = env_info.vector_observations[0]\n",
    "score = 0                         # initialize the score (for each agent)\n",
    "while True:\n",
    "    action = agent.eval_step(state)\n",
    "    # execute the action in the environment (interface with unity)\n",
    "    next_state, reward, done, info = agent.config.eval_env.step(action)\n",
    "    # update current state as next state\n",
    "    state = next_state\n",
    "    # cumul rewrd\n",
    "    score += reward\n",
    "    if done:                                  # exit loop if episode finished\n",
    "        break\n",
    "print('Total score this episode: {}'.format(score))\n",
    "agent.config.eval_env.close()\n",
    "agent.close()"
   ]
  },
  {
   "cell_type": "markdown",
   "metadata": {},
   "source": [
    "## 3. Part 3 : Evaluate a trained agent"
   ]
  },
  {
   "cell_type": "code",
   "execution_count": 3,
   "metadata": {},
   "outputs": [
    {
     "name": "stdout",
     "output_type": "stream",
     "text": [
      "WARN: gym.spaces.Box autodetected dtype as <class 'numpy.float32'>. Please provide explicit dtype.\n"
     ]
    },
    {
     "name": "stderr",
     "output_type": "stream",
     "text": [
      "C:\\ProgramData\\Anaconda3\\lib\\site-packages\\torch\\nn\\functional.py:995: UserWarning: nn.functional.tanh is deprecated. Use torch.tanh instead.\n",
      "  warnings.warn(\"nn.functional.tanh is deprecated. Use torch.tanh instead.\")\n"
     ]
    },
    {
     "name": "stdout",
     "output_type": "stream",
     "text": [
      "Results \tAverage Score: 33.13\tMax Score: 39.58\\Min Score: 1.06"
     ]
    },
    {
     "data": {
      "image/png": "[encoded data removed]",
      "text/plain": [
       "<matplotlib.figure.Figure at 0x2715c824860>"
      ]
     },
     "metadata": {},
     "output_type": "display_data"
    }
   ],
   "source": [
    "import matplotlib.pyplot as plt\n",
    "\n",
    "def eval(agent,n_episodes=100):\n",
    "    num_agents =1\n",
    "    brain_name = agent.config.eval_env.env.brain_names[0]\n",
    "    env_info = agent.config.eval_env.env.reset(train_mode=False)[brain_name] \n",
    "    state = env_info.vector_observations[0]\n",
    "    scores = []                        # list containing scores from each episode\n",
    "    scores_window = deque(maxlen=100)  # last 100 scores\n",
    "    for i_episode in range(1, n_episodes+1):\n",
    "        score = 0\n",
    "        while True:\n",
    "            action = agent.eval_step(state)\n",
    "            # execute the action in the environment (interface with unity)\n",
    "            next_state, reward, done, info = agent.config.eval_env.step(action)\n",
    "            # update current state as next state\n",
    "            state = next_state\n",
    "            # cumul rewrd\n",
    "            score += reward\n",
    "            if done:                      # exit loop if episode finished\n",
    "                break\n",
    "        scores_window.append(score)       # save most recent score\n",
    "        scores.append(score)              # save most recent score\n",
    "        print('\\rEpisode {}\\tAverage Score: {:.2f}\\tMax Score: {:.2f}'.format(i_episode, np.mean(scores_window),np.max(scores_window)), end=\"\")\n",
    "    return scores\n",
    "\n",
    "agent = ddpg_low_dim_state_unity()\n",
    "agent.load('checkpoint_425.pth')  \n",
    "scores = eval(agent)\n",
    "f = open('eval.txt', 'w')\n",
    "f.write('score: '+ str(scores)+'\\n')\n",
    "f.close()\n",
    "\n",
    "print('\\rResults \\tAverage Score: {:.2f}\\tMax Score: {:.2f}\\tMin Score: {:.2f}'.format(np.mean(scores),np.max(scores),np.min(scores)), end=\"\")\n",
    "\n",
    "fig = plt.figure()\n",
    "ax = fig.add_subplot(111)\n",
    "plt.plot(np.arange(len(scores)), scores)\n",
    "plt.ylabel('Score')\n",
    "plt.xlabel('Episode #')\n",
    "plt.show()\n",
    "\n",
    "agent.config.eval_env.close()"
   ]
  },
  {
   "cell_type": "code",
   "execution_count": null,
   "metadata": {
    "collapsed": true
   },
   "outputs": [],
   "source": []
  }
 ],
 "metadata": {
  "kernelspec": {
   "display_name": "Python 3",
   "language": "python",
   "name": "python3"
  },
  "language_info": {
   "codemirror_mode": {
    "name": "ipython",
    "version": 3
   },
   "file_extension": ".py",
   "mimetype": "text/x-python",
   "name": "python",
   "nbconvert_exporter": "python",
   "pygments_lexer": "ipython3",
   "version": "3.6.0"
  }
 },
 "nbformat": 4,
 "nbformat_minor": 2
}
