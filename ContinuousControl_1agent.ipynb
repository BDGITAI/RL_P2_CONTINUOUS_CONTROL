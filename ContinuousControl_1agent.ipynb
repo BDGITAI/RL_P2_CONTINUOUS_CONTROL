{
 "cells": [
  {
   "cell_type": "markdown",
   "metadata": {},
   "source": [
    "# Continuous Control\n",
    "\n",
    "---\n",
    "\n",
    "## Preamble\n",
    "\n",
    "### The project\n",
    "\n",
    "In this notebook, an agent based on the DDPG algorithm is used to solve a continuous control environment for the  [Deep Reinforcement Learning Nanodegree](https://www.udacity.com/course/deep-reinforcement-learning-nanodegree--nd893).\n",
    "\n",
    "Before using this notebook check that you have followed the .Readme file available in [GitHub Project repository](https://github.com/BDGITAI/RL_P2_CONTINUOUS_CONTROL)\n",
    "\n",
    "For the Notebook to work you will need the Reacher environment executable which was placed in [GitHub Project repository](https://github.com/BDGITAI/RL_P2_CONTINUOUS_CONTROL/Reacher_Windows_x86_64/). The environment needs to uncompressed as  `\"./Reacher_Windows_x86_64/Reacher.exe\"`\n",
    "\n",
    "This implementation uses the Pytorch library and was tested in a **Windows 64 bits** platform using **CPU**  computation. \n",
    "\n",
    "\n",
    "This notebook is divided in two parts\n",
    "* **Part 1** : Training. We will train an Agent and see how the learning can be applied to execute a task\n",
    "* **Part 2** : To see an already trained agent you can skip to Part 2 and load a trained agent.\n",
    "* **Part 3** : To evaluate a trained agent over 100 episodes. You can skip to Part 1 and load a trained agent.\n",
    "\n",
    "\n",
    "### Base used for the project\n",
    "\n",
    "[Shangtong Zhang](https://github.com/ShangtongZhang) implemented several agents and made the implementations in its GITHUB repository. This project is based on its work that was introduced in the Udacity's lectures.  \n",
    "The base was created to interact with openai and atari environment.\n",
    "This notebook highlights the modifications allowing the interactions with the Unity environment through the python API.\n",
    "\n",
    "---"
   ]
  },
  {
   "cell_type": "markdown",
   "metadata": {
    "collapsed": true
   },
   "source": [
    "## 1. Part 1 : Training an agent "
   ]
  },
  {
   "cell_type": "markdown",
   "metadata": {},
   "source": [
    "### 1.1 Imports and initialisation function\n",
    "Import the deep_rl libraries from Shangtong and create a function creating the DDPG agent interacting with the Unity environment"
   ]
  },
  {
   "cell_type": "code",
   "execution_count": 1,
   "metadata": {
    "collapsed": true
   },
   "outputs": [],
   "source": [
    "from deep_rl import *\n",
    "import sys\n",
    "\n",
    "# Init function used to create DDPG agent and initialise its configuration\n",
    "# DDPG agent for continuous control : https://arxiv.org/abs/1509.02971\n",
    "\n",
    "def ddpg_low_dim_state_unity():\n",
    "    config = Config()\n",
    "    log_dir = get_default_log_dir(ddpg_low_dim_state_unity.__name__)\n",
    "    # create a task to control the environment. ContinousControl is a new class in task.py\n",
    "    config.task_fn = lambda **kwargs: ContinuousControl(config.eval_env,log_dir=log_dir)\n",
    "    # create an Unity environment . New class in deep_rl/component/unity.py\n",
    "    config.eval_env = Unity()\n",
    "\n",
    "    # create actor critic network\n",
    "    # parametres of the network : fully connected 2 hidden layers 400 and 300 units\n",
    "    # https://arxiv.org/abs/1509.02971 section 7   \n",
    "    #\n",
    "    config.network_fn = lambda: DeterministicActorCriticNet(\n",
    "        config.state_dim, config.action_dim,\n",
    "        actor_body=FCBody(config.state_dim, (400, 300), gate=F.tanh),\n",
    "        critic_body=TwoLayerFCBodyWithAction(\n",
    "            config.state_dim, config.action_dim, (400, 300), gate=F.tanh),\n",
    "        actor_opt_fn=lambda params: torch.optim.Adam(params, lr=1e-4),\n",
    "        critic_opt_fn=lambda params: torch.optim.Adam(params, lr=1e-3))\n",
    "\n",
    "    config.replay_fn = lambda: Replay(memory_size=int(1e7), batch_size=64)\n",
    "    config.discount = 0.99\n",
    "    # use noise generation for exploration \n",
    "    # https://arxiv.org/abs/1509.02971 section 7  \n",
    "    # OrnsteinUhlenbeckProcess used as to generate temporally correlated noise which is \n",
    "    # consistent of the training on a continous task where each states are correlated temporally\n",
    "    config.random_process_fn = lambda: OrnsteinUhlenbeckProcess(\n",
    "        size=(config.action_dim, ), std=LinearSchedule(0.2))\n",
    "    # batch size\n",
    "    config.min_memory_size = 64\n",
    "    # parametre for blending with target network (see DQN with targets)\n",
    "    config.target_network_mix = 1e-3\n",
    "    #remove logger not compatible#config.logger = get_logger()\n",
    "    return DDPGAgent(config)"
   ]
  },
  {
   "cell_type": "markdown",
   "metadata": {},
   "source": [
    "The above cell creates a Unity environment base on a new class Unity.\n",
    "As documented in the Unity.py this class is a wrapper that provides an interface equivalent to the openai gym.\n",
    "The python API used for the Unity environment is different from open ai. To minimise changes in the agent code a wrapper was created. (see [unity.py](https://github.com/BDGITAI/RL_P2_CONTINUOUS_CONTROL/blob/master/deep_rl/component/unity.py))"
   ]
  },
  {
   "cell_type": "markdown",
   "metadata": {},
   "source": [
    "### 1.2 Training loop\n"
   ]
  },
  {
   "cell_type": "code",
   "execution_count": 2,
   "metadata": {
    "collapsed": true
   },
   "outputs": [],
   "source": [
    "# training loop function\n",
    "def train(agent,n_episodes=2000, max_t=1000, score_target =30.0):\n",
    "    scores = []                        # list containing scores from each episode\n",
    "    scores_window = deque(maxlen=100)  # last 100 scores\n",
    "    for i_episode in range(1, n_episodes+1):\n",
    "        # reset environment at the start of each episode\n",
    "        # None value forces the task.reset call\n",
    "        agent.state = None\n",
    "        # episode is not finished\n",
    "        done = False\n",
    "        # no reward at start\n",
    "        score = 0\n",
    "        for t in range(max_t):\n",
    "            # The agent step function decides which action to take \n",
    "            # then step the environment and store the experience in its memory\n",
    "            # if enough memory are gathered the agent updates the AC network weights\n",
    "            agent.step()\n",
    "            # access reward for monitoring\n",
    "            score = agent.episode_reward\n",
    "            if done:\n",
    "                break \n",
    "        # the agent implementation resets the score when episodes is successful\n",
    "        # as a consequence the reward keeps on cumulating while training\n",
    "        scores_window.append(score)       # save most recent score\n",
    "        scores.append(score)              # save most recent score\n",
    "        # reset agent\n",
    "        agent.next_state = None\n",
    "        agent.episode_rewards.append(agent.episode_reward)\n",
    "        agent.episode_reward = 0\n",
    "        print('\\rEpisode {}\\tAverage Score: {:.2f}\\tMax Score: {:.2f}'.format(i_episode, np.mean(scores_window),np.max(scores_window)), end=\"\")\n",
    "        # save network weigth every 100 episodes\n",
    "        if i_episode % 100 == 0:\n",
    "            print('\\rEpisode {}\\tAverage Score: {:.2f}'.format(i_episode, np.mean(scores_window)))\n",
    "            path = 'checkpoint_'+str(i_episode)+'.pth'\n",
    "            agent.save(path)\n",
    "            # save score\n",
    "            f = open('output.txt', 'w')\n",
    "            f.write('score: '+ str(scores)+'\\n')\n",
    "            f.close()\n",
    "        # target is 30 to win. \n",
    "        if np.mean(scores_window)>=score_target:\n",
    "            print('\\nEnvironment solved in {:d} episodes!\\tAverage Score: {:.2f}'.format(i_episode-100, np.mean(scores_window)))\n",
    "            path = 'checkpoint_'+str(i_episode)+'.pth'\n",
    "            agent.save(path)\n",
    "            break\n",
    "    return scores\n",
    "\n"
   ]
  },
  {
   "cell_type": "markdown",
   "metadata": {},
   "source": [
    "### 1.3 Execute training loop "
   ]
  },
  {
   "cell_type": "code",
   "execution_count": null,
   "metadata": {},
   "outputs": [
    {
     "name": "stdout",
     "output_type": "stream",
     "text": [
      "WARN: gym.spaces.Box autodetected dtype as <class 'numpy.float32'>. Please provide explicit dtype.\n"
     ]
    },
    {
     "name": "stderr",
     "output_type": "stream",
     "text": [
      "C:\\ProgramData\\Anaconda3\\lib\\site-packages\\torch\\nn\\functional.py:995: UserWarning: nn.functional.tanh is deprecated. Use torch.tanh instead.\n",
      "  warnings.warn(\"nn.functional.tanh is deprecated. Use torch.tanh instead.\")\n"
     ]
    },
    {
     "name": "stdout",
     "output_type": "stream",
     "text": [
      "Episode 100\tAverage Score: 3.99\tMax Score: 10.25\n",
      "Episode 170\tAverage Score: 4.93\tMax Score: 10.25"
     ]
    }
   ],
   "source": [
    "# create default directories to maintain compatibility with the base\n",
    "mkdir('data/video')\n",
    "mkdir('dataset')\n",
    "mkdir('log')\n",
    "\n",
    "# train on CPU and not multi agent training\n",
    "set_one_thread()\n",
    "# train on CPU : -1 , GPU = 0\n",
    "select_device(-1)\n",
    "# create the agent\n",
    "agent = ddpg_low_dim_state_unity()\n",
    "# train the agent\n",
    "scores = train(agent)\n",
    "# close the environment at the end of the training\n",
    "agent.config.eval_env.close()\n"
   ]
  },
  {
   "cell_type": "markdown",
   "metadata": {},
   "source": [
    "### 1.3 Pursue the training  "
   ]
  },
  {
   "cell_type": "markdown",
   "metadata": {},
   "source": [
    "In the first training sessions the each episode is 1000 time step long. After 2000 episodes the average score increased but does not meet the \"solve\" criteria. The score increases until it reaches a plateau.\n",
    "This can be due to the length of the episode, size of memory and reduced exploration.\n",
    "The amount of experience the agent can get from one episode is important when not trained are action selection is almost random. So the fact that the sphere as the same behaviour during the full episode does not prevent the agent from learning. However the better the agent is the less he learns for the this consistent environment. The 1000 time steps are temporally correlated and even with a random sampling the we have 1000 memories from which the agent may learn the same thing. If the memory can contain 1e5 timesteps it will store 10 episodes worth of information. \n",
    "\n",
    "That is why to "
   ]
  },
  {
   "cell_type": "code",
   "execution_count": 5,
   "metadata": {},
   "outputs": [
    {
     "name": "stdout",
     "output_type": "stream",
     "text": [
      "WARN: gym.spaces.Box autodetected dtype as <class 'numpy.float32'>. Please provide explicit dtype.\n"
     ]
    },
    {
     "name": "stderr",
     "output_type": "stream",
     "text": [
      "C:\\ProgramData\\Anaconda3\\lib\\site-packages\\torch\\nn\\functional.py:995: UserWarning: nn.functional.tanh is deprecated. Use torch.tanh instead.\n",
      "  warnings.warn(\"nn.functional.tanh is deprecated. Use torch.tanh instead.\")\n"
     ]
    },
    {
     "name": "stdout",
     "output_type": "stream",
     "text": [
      "Episode 100\tAverage Score: 1.64\tMax Score: 7.81\n",
      "Episode 200\tAverage Score: 5.22\tMax Score: 10.20\n",
      "Episode 300\tAverage Score: 10.50\tMax Score: 17.12\n",
      "Episode 400\tAverage Score: 15.28\tMax Score: 19.53\n",
      "Episode 425\tAverage Score: 16.05\tMax Score: 19.53\n",
      "Environment solved in 325 episodes!\tAverage Score: 16.05\n"
     ]
    }
   ],
   "source": [
    "\n",
    "agent = ddpg_low_dim_state_unity()\n",
    "agent.load('checkpoint_2000.pth')\n",
    "scores_2_phase = train(agent, n_episodes=2000, max_t=500, score_target =16.0)\n",
    "agent.config.eval_env.close()\n"
   ]
  },
  {
   "cell_type": "markdown",
   "metadata": {},
   "source": [
    "### 1.4 Plot the training results"
   ]
  },
  {
   "cell_type": "code",
   "execution_count": 5,
   "metadata": {},
   "outputs": [
    {
     "data": {
      "image/png": "[encoded data removed]",
      "text/plain": [
       "<matplotlib.figure.Figure at 0x16d859d6b38>"
      ]
     },
     "metadata": {},
     "output_type": "display_data"
    }
   ],
   "source": [
    "import matplotlib.pyplot as plt\n",
    "\n",
    "fig = plt.figure()\n",
    "ax = fig.add_subplot(111)\n",
    "plt.plot(np.arange(len(scores)), scores)\n",
    "plt.ylabel('Score')\n",
    "plt.xlabel('Episode #')\n",
    "plt.show()"
   ]
  },
  {
   "cell_type": "markdown",
   "metadata": {},
   "source": [
    "## 2. Part 2 : Watch a trained agent"
   ]
  },
  {
   "cell_type": "code",
   "execution_count": 2,
   "metadata": {},
   "outputs": [
    {
     "name": "stdout",
     "output_type": "stream",
     "text": [
      "WARN: gym.spaces.Box autodetected dtype as <class 'numpy.float32'>. Please provide explicit dtype.\n"
     ]
    },
    {
     "name": "stderr",
     "output_type": "stream",
     "text": [
      "C:\\ProgramData\\Anaconda3\\lib\\site-packages\\torch\\nn\\functional.py:995: UserWarning: nn.functional.tanh is deprecated. Use torch.tanh instead.\n",
      "  warnings.warn(\"nn.functional.tanh is deprecated. Use torch.tanh instead.\")\n"
     ]
    },
    {
     "name": "stdout",
     "output_type": "stream",
     "text": [
      "Total score this episode: 32.09999928250909\n"
     ]
    }
   ],
   "source": [
    "# only one agent\n",
    "num_agents =1\n",
    "# create the agent\n",
    "agent = ddpg_low_dim_state_unity()\n",
    "# load the successful weights\n",
    "agent.load('./successful_weigths/reacher_one.pth')\n",
    "#get the brain name\n",
    "brain_name = agent.config.eval_env.env.brain_names[0]\n",
    "# reset the Unity env and disable the training mode\n",
    "env_info = agent.config.eval_env.env.reset(train_mode=False)[brain_name] \n",
    "# get initial state\n",
    "state = env_info.vector_observations[0]\n",
    "# initialize the score\n",
    "score = 0                         \n",
    "while True:\n",
    "    action = agent.eval_step(state)\n",
    "    # execute the action in the environment (interface with unity)\n",
    "    next_state, reward, done, info = agent.config.eval_env.step(action)\n",
    "    # update current state as next state\n",
    "    state = next_state\n",
    "    # cumul rewrd\n",
    "    score += reward\n",
    "    if done:                                  # exit loop if episode finished\n",
    "        break\n",
    "print('Total score this episode: {}'.format(score))\n",
    "agent.config.eval_env.close()\n",
    "agent.close()"
   ]
  },
  {
   "cell_type": "markdown",
   "metadata": {},
   "source": [
    "## 3. Part 3 : Evaluate a trained agent"
   ]
  },
  {
   "cell_type": "code",
   "execution_count": 3,
   "metadata": {},
   "outputs": [
    {
     "name": "stdout",
     "output_type": "stream",
     "text": [
      "WARN: gym.spaces.Box autodetected dtype as <class 'numpy.float32'>. Please provide explicit dtype.\n"
     ]
    },
    {
     "name": "stderr",
     "output_type": "stream",
     "text": [
      "C:\\ProgramData\\Anaconda3\\lib\\site-packages\\torch\\nn\\functional.py:995: UserWarning: nn.functional.tanh is deprecated. Use torch.tanh instead.\n",
      "  warnings.warn(\"nn.functional.tanh is deprecated. Use torch.tanh instead.\")\n"
     ]
    },
    {
     "name": "stdout",
     "output_type": "stream",
     "text": [
      "Results \tAverage Score: 33.13\tMax Score: 39.58\\Min Score: 1.06"
     ]
    },
    {
     "data": {
      "image/png": "[encoded data removed]",
      "text/plain": [
       "<matplotlib.figure.Figure at 0x2715c824860>"
      ]
     },
     "metadata": {},
     "output_type": "display_data"
    }
   ],
   "source": [
    "import matplotlib.pyplot as plt\n",
    "\n",
    "def eval(agent,n_episodes=100):\n",
    "    # one agent\n",
    "    num_agents =1\n",
    "    # get brain name to interface with env\n",
    "    brain_name = agent.config.eval_env.env.brain_names[0]\n",
    "    # reset the env and disable training mode\n",
    "    env_info = agent.config.eval_env.env.reset(train_mode=False)[brain_name] \n",
    "    state = env_info.vector_observations[0]\n",
    "    scores = []                        # list containing scores from each episode\n",
    "    scores_window = deque(maxlen=100)  # last 100 scores\n",
    "    for i_episode in range(1, n_episodes+1):\n",
    "        score = 0\n",
    "        while True:\n",
    "            action = agent.eval_step(state)\n",
    "            # execute the action in the environment (interface with unity)\n",
    "            next_state, reward, done, info = agent.config.eval_env.step(action)\n",
    "            # update current state as next state\n",
    "            state = next_state\n",
    "            # cumul rewrd\n",
    "            score += reward\n",
    "            if done:                      # exit loop if episode finished\n",
    "                break\n",
    "        scores_window.append(score)       # save most recent score\n",
    "        scores.append(score)              # save most recent score\n",
    "        print('\\rEpisode {}\\tAverage Score: {:.2f}\\tMax Score: {:.2f}'.format(i_episode, np.mean(scores_window),np.max(scores_window)), end=\"\")\n",
    "    return scores\n",
    "\n",
    "#create agent and launch evaluation\n",
    "agent = ddpg_low_dim_state_unity()\n",
    "agent.load('./successful_weigths/reacher_one.pth')\n",
    "scores = eval(agent)\n",
    "agent.config.eval_env.close()\n",
    "\n",
    "#store score in file\n",
    "f = open('eval.txt', 'w')\n",
    "f.write('score: '+ str(scores)+'\\n')\n",
    "f.close()\n",
    "\n",
    "print('\\rResults \\tAverage Score: {:.2f}\\tMax Score: {:.2f}\\tMin Score: {:.2f}'.format(np.mean(scores),np.max(scores),np.min(scores)), end=\"\")\n",
    "\n",
    "#\n",
    "# plot the evaluation results\n",
    "#\n",
    "fig = plt.figure()\n",
    "ax = fig.add_subplot(111)\n",
    "plt.plot(np.arange(len(scores)), scores)\n",
    "plt.ylabel('Score')\n",
    "plt.xlabel('Episode #')\n",
    "plt.show()\n",
    "\n"
   ]
  }
 ],
 "metadata": {
  "kernelspec": {
   "display_name": "Python 3",
   "language": "python",
   "name": "python3"
  },
  "language_info": {
   "codemirror_mode": {
    "name": "ipython",
    "version": 3
   },
   "file_extension": ".py",
   "mimetype": "text/x-python",
   "name": "python",
   "nbconvert_exporter": "python",
   "pygments_lexer": "ipython3",
   "version": "3.6.0"
  }
 },
 "nbformat": 4,
 "nbformat_minor": 2
}
