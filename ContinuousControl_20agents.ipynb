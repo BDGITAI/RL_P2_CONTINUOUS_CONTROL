{
 "cells": [
  {
   "cell_type": "markdown",
   "metadata": {},
   "source": [
    "# Continuous Control with 20 agents\n",
    "\n",
    "---\n",
    "\n",
    "## Preamble\n",
    "\n",
    "### The project\n",
    "\n",
    "In this notebook, we explore the use of parallel training of agents performing the same tasks. We collect the learning from all the agent and update an Actor-Critic network that represents the knowledge gathered by the different agents. A ll agents DDPG algorithm is used to solve a continuous control environment for the  [Deep Reinforcement Learning Nanodegree](https://www.udacity.com/course/deep-reinforcement-learning-nanodegree--nd893).\n",
    "\n",
    "Before using this notebook check that you have followed the .Readme file available in [GitHub Project repository](https://github.com/BDGITAI/RL_P2_CONTINUOUS_CONTROL)\n",
    "\n",
    "For the Notebook to work you will need the Reacher environment executable (for 20 agents) which was placed in [GitHub Project repository](https://github.com/BDGITAI/RL_P2_CONTINUOUS_CONTROL/Reacher_Windows_x86_64/). The environment needs to uncompressed as  `\"./Reacher_windows_x86_64_20/Reacher.exe\"`\n",
    "\n",
    "This implementation uses the Pytorch library and was tested in a **Windows 64 bits** platform using **CPU**  computation. \n",
    "\n",
    "\n",
    "This notebook is divided in two parts\n",
    "* **Part 1** : Training. We will train an Agent and see how the learning can be applied to execute a task\n",
    "* **Part 2** : To see an already trained agent. You ll need to run the section 1.1 to get the import done but can skip the training section\n",
    "* **Part 3** : To evaluate a trained agent over 100 episodes. You ll need to run the section 1.1 to get the import done but can skip the training section\n",
    "\n",
    "\n",
    "### Base used for the project\n",
    "\n",
    "[Shangtong Zhang](https://github.com/ShangtongZhang) implemented several agents and made the implementations in its GITHUB repository. This project is based on its work that was introduced in the Udacity's lectures.  \n",
    "The base was created to interact with openai and atari environment.\n",
    "This notebook highlights the modifications allowing the interactions with the Unity environment through the python API.\n",
    "\n",
    "---\n"
   ]
  },
  {
   "cell_type": "markdown",
   "metadata": {},
   "source": [
    "## 1. Part 1 : Training 20 agents "
   ]
  },
  {
   "cell_type": "markdown",
   "metadata": {},
   "source": [
    "### 1.1 Imports and initialisation function\n",
    "Import the deep_rl libraries from Shangtong and create a function creating the DDPG agent interacting with the Unity environment."
   ]
  },
  {
   "cell_type": "markdown",
   "metadata": {},
   "source": [
    "The initial approach would be to create 20 DDPG agents each one having their memory and actor critic network. Each agent could be trained in parallel for a given amount of timesteps. Then contents of all memories could be merged , one central network would be updated with the learning (forward and barkward pass). The resulting weights would then be copied into the 20 agents.\n",
    "    1. Create 20 agents (threads)\n",
    "    2. Each agents interact with environmnet for T_TIMESTEPS\n",
    "    3. Once all thread are waiting, merge all memories into a central memory\n",
    "    4. Perform Actor Critic Network update\n",
    "    5. Update all agents with new weights\n",
    "    6. Go to step 2 and repeat until end of episode\n",
    "\n",
    "\n",
    "However, the unity environmnent contains the environment for all 20 agents. It implies that all 20 actions need to be given at the same time to update unity and get new states. This limits the use of thread to create parallel tasks.\n",
    "Instead, the following cells create 20 agents that are called consecutively from the training loop. All share the same replay memory and network. The training first determine what actions are taken and uses the new states to update all agents.\n",
    "\n",
    "To enable the training a new DDPG20 class is created to slit the step function in two parts : evaluation action , step the environmnent (see [DDPG.py](https://github.com/BDGITAI/RL_P2_CONTINUOUS_CONTROL/blob/master/deep_rl/agent/DDPG_agent.py)"
   ]
  },
  {
   "cell_type": "code",
   "execution_count": 1,
   "metadata": {
    "collapsed": true
   },
   "outputs": [],
   "source": [
    "from deep_rl import *\n",
    "\n",
    "#\n",
    "# Create a the Actor Critic Network that will be shared\n",
    "# by all agents for evaluating actions. The unity environment requires all actions\n",
    "# to be passed at once. Hence we can evaluate actions for the 20 agents successively\n",
    "# and then step the environment. The unity env creates a bottleneck that limits the use\n",
    "# of parallelism. With successive call there will be no competitive access to the network\n",
    "# while training\n",
    "# \n",
    "\n",
    "def shared_net(state_dim,action_dim):\n",
    "     return (DeterministicActorCriticNet(\n",
    "        state_dim, action_dim,\n",
    "        actor_body=FCBody(state_dim, (400, 300), gate=F.tanh),\n",
    "        critic_body=TwoLayerFCBodyWithAction(\n",
    "            state_dim, action_dim, (400, 300), gate=F.tanh),\n",
    "        actor_opt_fn=lambda params: torch.optim.Adam(params, lr=1e-4),\n",
    "        critic_opt_fn=lambda params: torch.optim.Adam(params, lr=1e-3)))\n",
    "\n",
    "#\n",
    "# Create a shared memory between 20 agents. \n",
    "# The stepping function of all agents will be called in sequence avoiding competing\n",
    "# access when inserting or removing data from the memory\n",
    "#   \n",
    "def shared_mem():\n",
    "    return Replay(memory_size=int(1e7), batch_size=64)  \n",
    "\n",
    "\n",
    "#\n",
    "# Create multiple agents\n",
    "#\n",
    "def create_agents(num_agent,net,target_net,mem):\n",
    "    config = Config()\n",
    "    log_dir = get_default_log_dir(create_agents.__name__)\n",
    "    config.task_fn = lambda **kwargs: ContinuousControl(config.eval_env,log_dir=log_dir)\n",
    "    config.eval_env = Unity20()\n",
    "    config.max_steps = int(1e6)\n",
    "    config.eval_interval = int(1e4)\n",
    "    config.eval_episodes = 20\n",
    "    config.discount = 0.99\n",
    "    config.random_process_fn = lambda: OrnsteinUhlenbeckProcess(\n",
    "        size=(config.action_dim, ), std=LinearSchedule(0.2))\n",
    "    config.min_memory_size = 64\n",
    "    config.target_network_mix = 1e-3\n",
    "    #config.logger = get_logger()\n",
    "    agents = []\n",
    "    # create 20 agents \n",
    "    # the DDPG class is modified in a DDPG20 class to accomodate the training\n",
    "    for i in range(num_agent):\n",
    "        agents.append (DDPGAgent20(config,net,target_net,mem))\n",
    "    return agents         "
   ]
  },
  {
   "cell_type": "markdown",
   "metadata": {},
   "source": [
    "### 1.2 Training loop"
   ]
  },
  {
   "cell_type": "code",
   "execution_count": 4,
   "metadata": {
    "collapsed": true
   },
   "outputs": [],
   "source": [
    "def train(agents,n_episodes=2000, max_t=1000,score_target=30):\n",
    "    scores = []     # list containing scores from each episode\n",
    "    scores_window = deque(maxlen=100)  # last 100 scores\n",
    "    for i_episode in range(1, n_episodes+1):\n",
    "        # reset environment at the start of each episode\n",
    "        states = agents[0].config.eval_env.reset()\n",
    "        for agent,state in zip(agents,states):\n",
    "            agent.state = state\n",
    "        # no reward at start\n",
    "        episode_rewards = np.zeros(len(agents))\n",
    "        ep_scores = np.zeros(len(agents))\n",
    "        for t in range(max_t):\n",
    "            # decide wich action to take according to eps greedy policy\n",
    "            actions = []\n",
    "            for agent in agents:\n",
    "                action = agent.half_step1()\n",
    "                actions.append(action)\n",
    "            # execute the action in the environment (interface with unity)\n",
    "            next_states, rewards, dones, infos = agent.config.eval_env.step(actions)\n",
    "            # store this experience in the memory and learn if enough experiences have been gathered\n",
    "            for agent,action,next_state,reward,done,info in zip(agents,actions,next_states, rewards, dones, infos):\n",
    "                agent.half_step2(action,next_state,reward,done,info)\n",
    "            # update current state as next state\n",
    "            for agent,state in zip(agents,next_states):\n",
    "                agent.state = state\n",
    "            # cumul reward\n",
    "            ep_scores += rewards\n",
    "            if np.any(dones):\n",
    "                break \n",
    "        score = np.mean(ep_scores)\n",
    "        scores_window.append(score)       # save most recent score\n",
    "        scores.append(score)              # save most recent score\n",
    "        print('\\rEpisode {}\\tAverage Score: {:.2f}\\tMax Score: {:.2f}'.format(i_episode, np.mean(scores_window),np.max(scores_window)), end=\"\")\n",
    "        # save network weigth every 100 episodes\n",
    "        if i_episode % 100 == 0:\n",
    "            print('\\rEpisode {}\\tAverage Score: {:.2f}'.format(i_episode, np.mean(scores_window)))\n",
    "            path = 'checkpoint20_'+str(i_episode)+'.pth'\n",
    "            agent.save(path)\n",
    "            # save score\n",
    "            f = open('output20.txt', 'w')\n",
    "            f.write('score: '+ str(scores)+'\\n')\n",
    "            f.close()\n",
    "        # target is 30 to win. \n",
    "        if np.mean(scores_window)>=score_target:\n",
    "            print('\\nEnvironment solved in {:d} episodes!\\tAverage Score: {:.2f}'.format(i_episode-100, np.mean(scores_window)))\n",
    "            path = 'checkpoint20_'+str(i_episode)+'.pth'\n",
    "            agent.save(path)\n",
    "            # save score\n",
    "            f = open('output20.txt', 'w')\n",
    "            f.write('score: '+ str(scores)+'\\n')\n",
    "            f.close()\n",
    "            break\n",
    "    return scores\n",
    "\n"
   ]
  },
  {
   "cell_type": "markdown",
   "metadata": {},
   "source": [
    "### 1.3 Execute training loop "
   ]
  },
  {
   "cell_type": "code",
   "execution_count": 5,
   "metadata": {},
   "outputs": [
    {
     "name": "stdout",
     "output_type": "stream",
     "text": [
      "\u001b[33mWARN: gym.spaces.Box autodetected dtype as <class 'numpy.float32'>. Please provide explicit dtype.\u001b[0m\n",
      "Episode 100\tAverage Score: 11.97\tMax Score: 17.96\n",
      "Episode 131\tAverage Score: 16.07\tMax Score: 17.97\n",
      "Environment solved in 31 episodes!\tAverage Score: 16.07\n"
     ]
    }
   ],
   "source": [
    "# create default directories to maintain compatibility with the base\n",
    "mkdir('data/video')\n",
    "mkdir('dataset')\n",
    "mkdir('log')\n",
    "\n",
    "# train on CPU and not multi agent training\n",
    "set_one_thread()\n",
    "# train on CPU : -1 , GPU = 0\n",
    "select_device(-1)\n",
    "# create the agent\n",
    "                   \n",
    "# create a shared Network with observation dimensions = 33 and actions dimensions =4 (see .Readme)\n",
    "network = shared_net(33,4)\n",
    "# create a shared target Network with observation dimensions = 33 and actions dimensions =4 (see .Readme)\n",
    "target_network = shared_net(33,4)\n",
    "# create a shared replay memory to collect all data from all agents\n",
    "replay = shared_mem()\n",
    "# create agents\n",
    "agents = create_agents(20,network,target_network,replay)\n",
    "# start training , train on only half the required time steps to get different experiences quicker\n",
    "scores = train(agents, n_episodes=1000, max_t=500, score_target =16.0)\n"
   ]
  },
  {
   "cell_type": "markdown",
   "metadata": {},
   "source": [
    "### 1.4 Plot the training results"
   ]
  },
  {
   "cell_type": "code",
   "execution_count": 6,
   "metadata": {},
   "outputs": [
    {
     "data": {
      "image/png": "[encoded data removed]",
      "text/plain": [
       "<matplotlib.figure.Figure at 0x7f82a9805dd8>"
      ]
     },
     "metadata": {
      "needs_background": "light"
     },
     "output_type": "display_data"
    }
   ],
   "source": [
    "import matplotlib.pyplot as plt\n",
    "\n",
    "fig = plt.figure()\n",
    "ax = fig.add_subplot(111)\n",
    "plt.plot(np.arange(len(scores)), scores)\n",
    "plt.ylabel('Score')\n",
    "plt.xlabel('Episode #')\n",
    "plt.show()"
   ]
  },
  {
   "cell_type": "markdown",
   "metadata": {},
   "source": [
    "## 2. Part 2 : Watch a trained agent"
   ]
  },
  {
   "cell_type": "markdown",
   "metadata": {},
   "source": [
    "Run the part 1.1 of this notebook to import the libraries and function definitions."
   ]
  },
  {
   "cell_type": "code",
   "execution_count": 2,
   "metadata": {},
   "outputs": [
    {
     "name": "stdout",
     "output_type": "stream",
     "text": [
      "WARN: gym.spaces.Box autodetected dtype as <class 'numpy.float32'>. Please provide explicit dtype.\n"
     ]
    },
    {
     "name": "stderr",
     "output_type": "stream",
     "text": [
      "C:\\ProgramData\\Anaconda3\\lib\\site-packages\\torch\\nn\\functional.py:995: UserWarning: nn.functional.tanh is deprecated. Use torch.tanh instead.\n",
      "  warnings.warn(\"nn.functional.tanh is deprecated. Use torch.tanh instead.\")\n"
     ]
    },
    {
     "name": "stdout",
     "output_type": "stream",
     "text": [
      "Total score this episode: 39.45749911805615\n"
     ]
    }
   ],
   "source": [
    "# create a shared Network with observation dimensions = 33 and actions dimensions =4 (see .Readme)\n",
    "network = shared_net(33,4)\n",
    "# create a shared target Network with observation dimensions = 33 and actions dimensions =4 (see .Readme)\n",
    "target_network = shared_net(33,4)\n",
    "# create a shared replay memory to collect all data from all agents\n",
    "replay = shared_mem()\n",
    "# create agents\n",
    "agents = create_agents(20,network,target_network,replay)\n",
    "# initialise weights with learned ones\n",
    "for agent in agents:\n",
    "    agent.load('./successful_weigths/reacher_20.pth')\n",
    "# Disable the training mode of the environmnet\n",
    "brain_name = agents[0].config.eval_env.env.brain_names[0]\n",
    "env_info = agents[0].config.eval_env.env.reset(train_mode=False)[brain_name] \n",
    "# reset states\n",
    "states = env_info.vector_observations\n",
    "scores = np.zeros(20)                        # initialize the score (for each agent)\n",
    "while True:\n",
    "    actions = []\n",
    "    for agent,state in zip(agents,states):\n",
    "        actions.append(agent.eval_step(state))\n",
    "    # execute the action in the environment (interface with unity)\n",
    "    env_info = agent.config.eval_env.env.step(actions)[brain_name]           # send all actions to tne environment\n",
    "    next_states = env_info.vector_observations         # get next state (for each agent)\n",
    "    rewards = env_info.rewards                         # get reward (for each agent)\n",
    "    dones = env_info.local_done                        # see if episode finished\n",
    "    scores += rewards                                  # update the score (for each agent)\n",
    "    states = next_states                               # roll over states to next time step\n",
    "    if np.any(dones):                                  # exit loop if episode finished\n",
    "        break\n",
    "print('Total score this episode: {}'.format(np.mean(scores)))\n",
    "agents[0].config.eval_env.env.close()"
   ]
  },
  {
   "cell_type": "markdown",
   "metadata": {},
   "source": [
    "## 3. Part 3 : Evaluate a trained agent"
   ]
  },
  {
   "cell_type": "markdown",
   "metadata": {},
   "source": [
    "Run the part 1.1 of this notebook to import the libraries and function definitions."
   ]
  },
  {
   "cell_type": "code",
   "execution_count": 12,
   "metadata": {},
   "outputs": [
    {
     "name": "stdout",
     "output_type": "stream",
     "text": [
      "WARN: gym.spaces.Box autodetected dtype as <class 'numpy.float32'>. Please provide explicit dtype.\n"
     ]
    },
    {
     "name": "stderr",
     "output_type": "stream",
     "text": [
      "C:\\ProgramData\\Anaconda3\\lib\\site-packages\\torch\\nn\\functional.py:995: UserWarning: nn.functional.tanh is deprecated. Use torch.tanh instead.\n",
      "  warnings.warn(\"nn.functional.tanh is deprecated. Use torch.tanh instead.\")\n"
     ]
    },
    {
     "name": "stdout",
     "output_type": "stream",
     "text": [
      "Episode 10\tAverage Score: 39.39\tMax Score: 39.46"
     ]
    },
    {
     "data": {
      "image/png": "[encoded data removed]",
      "text/plain": [
       "<matplotlib.figure.Figure at 0x1b2e85029e8>"
      ]
     },
     "metadata": {},
     "output_type": "display_data"
    }
   ],
   "source": [
    "import matplotlib.pyplot as plt\n",
    "\n",
    "def eval(agents,n_episodes=100):\n",
    "    evals = []                        # list containing scores from each episode\n",
    "    scores_window = deque(maxlen=100)  # last 100 scores\n",
    "    for i_episode in range(1, n_episodes+1):\n",
    "        env_info = agents[0].config.eval_env.env.reset(train_mode=False)[brain_name] \n",
    "        # reset states\n",
    "        states = env_info.vector_observations\n",
    "        scores = np.zeros(20)                        # initialize the score (for each agent)\n",
    "        while True:\n",
    "            actions = []\n",
    "            for agent,state in zip(agents,states):\n",
    "                actions.append(agent.eval_step(state))\n",
    "            # execute the action in the environment (interface with unity)\n",
    "            env_info = agent.config.eval_env.env.step(actions)[brain_name]           # send all actions to tne environment\n",
    "            next_states = env_info.vector_observations         # get next state (for each agent)\n",
    "            rewards = env_info.rewards                         # get reward (for each agent)\n",
    "            dones = env_info.local_done                        # see if episode finished\n",
    "            scores += rewards                                  # update the score (for each agent)\n",
    "            states = next_states                               # roll over states to next time step\n",
    "            if np.any(dones):                                  # exit loop if episode finished\n",
    "                break\n",
    "        score = np.mean(scores)\n",
    "        scores_window.append(score)       # save most recent score\n",
    "        evals.append(score)              # save most recent score\n",
    "        print('\\rEpisode {}\\tAverage Score: {:.2f}\\tMax Score: {:.2f}'.format(i_episode, np.mean(scores_window),np.max(scores_window)), end=\"\")\n",
    "    return scores\n",
    "\n",
    "# create a shared Network with observation dimensions = 33 and actions dimensions =4 (see .Readme)\n",
    "network = shared_net(33,4)\n",
    "# create a shared target Network with observation dimensions = 33 and actions dimensions =4 (see .Readme)\n",
    "target_network = shared_net(33,4)\n",
    "# create a shared replay memory to collect all data from all agents\n",
    "replay = shared_mem()\n",
    "# create agents\n",
    "agents = create_agents(20,network,target_network,replay)\n",
    "# initialise weights with learned ones\n",
    "for agent in agents:\n",
    "    agent.load('./successful_weigths/reacher_20.pth')\n",
    "# Disable the training mode of the environmnet\n",
    "brain_name = agents[0].config.eval_env.env.brain_names[0]\n",
    "env_info = agents[0].config.eval_env.env.reset(train_mode=False)[brain_name]\n",
    "\n",
    "# evaluation\n",
    "scores = eval(agents,n_episodes=10)\n",
    "\n",
    "\n",
    "fig = plt.figure()\n",
    "ax = fig.add_subplot(111)\n",
    "plt.plot(np.arange(len(scores)), scores)\n",
    "plt.ylabel('Score')\n",
    "plt.xlabel('Episode #')\n",
    "plt.show()\n",
    "\n",
    "agents[0].config.eval_env.env.close()"
   ]
  },
  {
   "cell_type": "markdown",
   "metadata": {},
   "source": [
    "---\n",
    "\n",
    "# Annex"
   ]
  },
  {
   "cell_type": "markdown",
   "metadata": {},
   "source": [
    "Code used for VM workspace"
   ]
  },
  {
   "cell_type": "code",
   "execution_count": 1,
   "metadata": {
    "collapsed": true
   },
   "outputs": [],
   "source": [
    "!pip -q install ./python"
   ]
  },
  {
   "cell_type": "code",
   "execution_count": 10,
   "metadata": {
    "collapsed": true
   },
   "outputs": [],
   "source": [
    "import zipfile\n",
    "zip_ref = zipfile.ZipFile('./data/Reacher_Linux_NoVis.zip', 'r')\n",
    "zip_ref.extractall('./data/Reacher_Linux_NoVis/')\n",
    "zip_ref.close()"
   ]
  },
  {
   "cell_type": "code",
   "execution_count": 2,
   "metadata": {
    "collapsed": true
   },
   "outputs": [],
   "source": [
    "import os\n",
    "import stat\n",
    "\n",
    "for dirpath, dirnames, filenames in os.walk('.'):\n",
    "    for filename in filenames:\n",
    "        path = os.path.join(dirpath, filename)\n",
    "        os.chmod(path, 0o777) # for example"
   ]
  }
 ],
 "metadata": {
  "kernelspec": {
   "display_name": "Python 3",
   "language": "python",
   "name": "python3"
  },
  "language_info": {
   "codemirror_mode": {
    "name": "ipython",
    "version": 3
   },
   "file_extension": ".py",
   "mimetype": "text/x-python",
   "name": "python",
   "nbconvert_exporter": "python",
   "pygments_lexer": "ipython3",
   "version": "3.6.0"
  }
 },
 "nbformat": 4,
 "nbformat_minor": 2
}
